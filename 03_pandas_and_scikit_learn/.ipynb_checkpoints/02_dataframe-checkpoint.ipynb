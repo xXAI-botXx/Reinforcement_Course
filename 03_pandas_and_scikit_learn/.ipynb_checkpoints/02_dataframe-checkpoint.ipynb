{
 "cells": [
  {
   "cell_type": "markdown",
   "id": "594d16d4-ee4a-474c-80d5-b3397ac0d5c7",
   "metadata": {},
   "source": [
    "# Pandas Dataframe\n",
    "\n",
    "> hint: the most methods return a new DataFrame -> no side effect"
   ]
  },
  {
   "cell_type": "code",
   "execution_count": null,
   "id": "772d61b0-828e-4d22-909a-c2f47386f771",
   "metadata": {},
   "outputs": [],
   "source": []
  },
  {
   "cell_type": "markdown",
   "id": "1b9d5c0c-9676-4e57-8465-02e9f7dfaa52",
   "metadata": {},
   "source": [
    "**creating DataFrames**"
   ]
  },
  {
   "cell_type": "code",
   "execution_count": null,
   "id": "e1950681-b7c5-4b4b-8a86-36844b241942",
   "metadata": {},
   "outputs": [],
   "source": []
  }
 ],
 "metadata": {
  "kernelspec": {
   "display_name": "Python 3",
   "language": "python",
   "name": "python3"
  },
  "language_info": {
   "codemirror_mode": {
    "name": "ipython",
    "version": 3
   },
   "file_extension": ".py",
   "mimetype": "text/x-python",
   "name": "python",
   "nbconvert_exporter": "python",
   "pygments_lexer": "ipython3",
   "version": "3.9.12"
  }
 },
 "nbformat": 4,
 "nbformat_minor": 5
}
