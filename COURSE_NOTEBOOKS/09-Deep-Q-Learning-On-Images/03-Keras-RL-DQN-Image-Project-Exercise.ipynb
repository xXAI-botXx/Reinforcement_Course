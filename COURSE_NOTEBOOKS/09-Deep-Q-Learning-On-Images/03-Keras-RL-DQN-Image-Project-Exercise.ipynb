{
 "cells": [
  {
   "cell_type": "markdown",
   "id": "f7214179",
   "metadata": {},
   "source": [
    "___\n",
    "\n",
    "<a href='http://www.pieriandata.com'><img src='../Pierian_Data_Logo.png'/></a>\n",
    "___\n",
    "<center><em>Copyright by Pierian Data Inc.</em></center>\n",
    "<center><em>For more information, visit us at <a href='http://www.pieriandata.com'>www.pieriandata.com</a></em></center>\n",
    "\n",
    "# Keras RL DQN on Image Environment - Exercise - \n",
    "\n",
    "\n"
   ]
  },
  {
   "cell_type": "markdown",
   "id": "bcba433e",
   "metadata": {},
   "source": [
    "In thise notebook you will implement a DQN agent on the famous game of Pong:\n",
    "**Use the Pong-v0 environment**\n",
    "(https://gym.openai.com/envs/Pong-v0/) <br />"
   ]
  },
  {
   "cell_type": "markdown",
   "id": "c5c479cb",
   "metadata": {},
   "source": [
    "**TASK: Import necessary libraries and create the environment. Also extract the possible actions** <br />"
   ]
  },
  {
   "cell_type": "code",
   "execution_count": null,
   "id": "a7efe353",
   "metadata": {},
   "outputs": [],
   "source": [
    "#TODO"
   ]
  },
  {
   "cell_type": "code",
   "execution_count": null,
   "id": "315b3c79",
   "metadata": {},
   "outputs": [],
   "source": [
    "#TODO"
   ]
  },
  {
   "cell_type": "markdown",
   "id": "24513593",
   "metadata": {},
   "source": [
    "**TASK: Play the game manually (keys: a and d to move the bars)** <br />"
   ]
  },
  {
   "cell_type": "code",
   "execution_count": null,
   "id": "df7e259d",
   "metadata": {},
   "outputs": [],
   "source": [
    "play.play(env)"
   ]
  },
  {
   "cell_type": "markdown",
   "id": "716e71bf",
   "metadata": {},
   "source": [
    "**TASK: Define an input size and the window length** <br />"
   ]
  },
  {
   "cell_type": "code",
   "execution_count": null,
   "id": "8f2d846b",
   "metadata": {},
   "outputs": [],
   "source": [
    "#TODO"
   ]
  },
  {
   "cell_type": "markdown",
   "id": "c68dcc0d",
   "metadata": {},
   "source": [
    "**TASK: Create the ImageProcessor** <br />\n",
    "It needs to:\n",
    "1. Resize the image\n",
    "2. Convert it to grayscale\n",
    "3. Standardize it\n",
    "4. Be memory efficient\n",
    "\n",
    "Dont forget the reward clipping"
   ]
  },
  {
   "cell_type": "code",
   "execution_count": null,
   "id": "ee038012",
   "metadata": {},
   "outputs": [],
   "source": [
    "#TODO"
   ]
  },
  {
   "cell_type": "markdown",
   "id": "9b349769",
   "metadata": {},
   "source": [
    "**TASK: Design the Convolutional Neural Network** <br />\n",
    "Hint: Make sure to get the right input shape!\n",
    "\n",
    "You can try the same architecture than presented in the previous notebook:\n",
    "1. Conv2D(filters=32, kernel_size=8, stride=4)\n",
    "2. Conv2D(filters=64, kernel_size=4, stride=2)\n",
    "3. Conv2D(filters=64, kernel_size=3, stride=1)\n",
    "4. Dense(512)\n",
    "\n",
    "Dont forget the activation function"
   ]
  },
  {
   "cell_type": "code",
   "execution_count": null,
   "id": "d96119b3",
   "metadata": {},
   "outputs": [],
   "source": [
    "#TODO"
   ]
  },
  {
   "cell_type": "markdown",
   "id": "f2c99731",
   "metadata": {},
   "source": [
    "**TASK: Create the Replay Memory** <br />\n"
   ]
  },
  {
   "cell_type": "code",
   "execution_count": null,
   "id": "a0872814",
   "metadata": {},
   "outputs": [],
   "source": [
    "#TODO"
   ]
  },
  {
   "cell_type": "markdown",
   "id": "3d90ce3e",
   "metadata": {},
   "source": [
    "**TASK: Create the processor** <br />\n"
   ]
  },
  {
   "cell_type": "code",
   "execution_count": null,
   "id": "150f633e",
   "metadata": {},
   "outputs": [],
   "source": [
    "#TODO"
   ]
  },
  {
   "cell_type": "markdown",
   "id": "fe0993c4",
   "metadata": {},
   "source": [
    "**TASK: Define the action selection policy.** <br />\n",
    "Feel free to try all policies you like. (Hint: decaying epsilon greedy also works here)"
   ]
  },
  {
   "cell_type": "code",
   "execution_count": null,
   "id": "9af7e7b6",
   "metadata": {},
   "outputs": [],
   "source": [
    "#TODO"
   ]
  },
  {
   "cell_type": "markdown",
   "id": "e2f3b1f3",
   "metadata": {},
   "source": [
    "**TASK: Create the agent.** <br />\n",
    "Dont forget to compile!"
   ]
  },
  {
   "cell_type": "code",
   "execution_count": null,
   "id": "64cd024e",
   "metadata": {},
   "outputs": [],
   "source": [
    "#TODO"
   ]
  },
  {
   "cell_type": "markdown",
   "id": "eb58ef60",
   "metadata": {},
   "source": [
    "**TASK: Define a checkpoint callback to store the weights during training.** <br />\n",
    "Please name it differently than our provided checkpoint to avoid overwriting it"
   ]
  },
  {
   "cell_type": "code",
   "execution_count": null,
   "id": "e54594f7",
   "metadata": {},
   "outputs": [],
   "source": [
    "#TODO"
   ]
  },
  {
   "cell_type": "markdown",
   "id": "836bb382",
   "metadata": {},
   "source": [
    "**TASK: Train the agent.** <br />"
   ]
  },
  {
   "cell_type": "code",
   "execution_count": null,
   "id": "f42d7f74",
   "metadata": {},
   "outputs": [],
   "source": [
    "#TODO"
   ]
  },
  {
   "cell_type": "markdown",
   "id": "55c6df4a",
   "metadata": {},
   "source": [
    "**TASK: Evaluate the agent.** <br />"
   ]
  },
  {
   "cell_type": "code",
   "execution_count": null,
   "id": "6a830414",
   "metadata": {},
   "outputs": [],
   "source": [
    "#TODO"
   ]
  },
  {
   "cell_type": "markdown",
   "id": "680db46b",
   "metadata": {},
   "source": [
    "**TASK: Load your weights (or the provided ones) and create an agent from those** <br />"
   ]
  },
  {
   "cell_type": "code",
   "execution_count": null,
   "id": "fb4338ad",
   "metadata": {},
   "outputs": [],
   "source": [
    "#TODO"
   ]
  }
 ],
 "metadata": {
  "kernelspec": {
   "display_name": "Python 3",
   "language": "python",
   "name": "python3"
  },
  "language_info": {
   "codemirror_mode": {
    "name": "ipython",
    "version": 3
   },
   "file_extension": ".py",
   "mimetype": "text/x-python",
   "name": "python",
   "nbconvert_exporter": "python",
   "pygments_lexer": "ipython3",
   "version": "3.8.10"
  }
 },
 "nbformat": 4,
 "nbformat_minor": 5
}
