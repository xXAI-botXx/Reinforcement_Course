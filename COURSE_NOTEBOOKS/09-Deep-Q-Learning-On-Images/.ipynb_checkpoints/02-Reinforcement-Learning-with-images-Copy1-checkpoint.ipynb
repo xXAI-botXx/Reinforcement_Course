{
 "cells": [
  {
   "cell_type": "markdown",
   "id": "advised-activation",
   "metadata": {},
   "source": [
    "___\n",
    "\n",
    "<a href='http://www.pieriandata.com'><img src='../Pierian_Data_Logo.png'/></a>\n",
    "___\n",
    "<center><em>Copyright by Pierian Data Inc.</em></center>\n",
    "<center><em>For more information, visit us at <a href='http://www.pieriandata.com'>www.pieriandata.com</a></em></center>\n",
    "\n",
    "# Reinforcement Learning on Images\n",
    "\n",
    "\n",
    "\n",
    "# Learning Outcomes\n",
    "\n",
    "* Student understands how to read in image data from open ai gym env\n",
    "* Creates Keras-RL model on IMage env\n",
    "* uses CNN for image data"
   ]
  },
  {
   "cell_type": "markdown",
   "id": "cultural-granny",
   "metadata": {},
   "source": [
    "In this notebook we are going to train a Deep Q Network to play the breakout game! <br />\n",
    "At first we start with the necessary imports and create the environment"
   ]
  },
  {
   "cell_type": "code",
   "execution_count": null,
   "id": "literary-grave",
   "metadata": {},
   "outputs": [],
   "source": [
    "%config Completer.use_jedi = False\n",
    "# https://github.com/keras-rl/keras-rl/blob/master/examples/dqn_atari.py\n",
    "\n",
    "\n",
    "from PIL import Image  # To transform the image in the Processor\n",
    "import numpy as np\n",
    "import gym\n",
    "\n",
    "# Convolutional Backbone Network\n",
    "from tensorflow.keras.models import Sequential\n",
    "from tensorflow.keras.layers import Dense, Activation, Flatten, Convolution2D, Permute\n",
    "from tensorflow.keras.optimizers import Adam\n",
    "\n",
    "# Keras-RL\n",
    "from rl.agents.dqn import DQNAgent\n",
    "from rl.policy import LinearAnnealedPolicy, EpsGreedyQPolicy\n",
    "from rl.memory import SequentialMemory\n",
    "from rl.core import Processor\n",
    "from rl.callbacks import FileLogger, ModelIntervalCheckpoint\n"
   ]
  },
  {
   "cell_type": "code",
   "execution_count": null,
   "id": "consecutive-tongue",
   "metadata": {},
   "outputs": [],
   "source": [
    "env = gym.make(\"BreakoutDeterministic-v4\")\n",
    "nb_actions = env.action_space.n\n"
   ]
  },
  {
   "cell_type": "markdown",
   "id": "verbal-darkness",
   "metadata": {},
   "source": [
    "We will use an input shape of $(84 \\times 84)$ and a window length of 4 thus each timestep will consist of 4 consecutive frames"
   ]
  },
  {
   "cell_type": "code",
   "execution_count": null,
   "id": "distant-indonesia",
   "metadata": {},
   "outputs": [],
   "source": [
    "IMG_SHAPE = (84, 84)\n",
    "WINDOW_LENGTH = 4\n"
   ]
  },
  {
   "cell_type": "markdown",
   "id": "abroad-parade",
   "metadata": {},
   "source": [
    "Based on those settings we create our processor. It is the same processor as in the last notebook, with the addition that it standardizes the data into the [0, 1] intervall which often decreases the necessary training time. <br />\n",
    "We perform this standardization routine in the process_state_batch function, which is only executed on the current batch and not on the complete replay memory which decreases RAM usage by a factor of 4"
   ]
  },
  {
   "cell_type": "code",
   "execution_count": null,
   "id": "cellular-photography",
   "metadata": {},
   "outputs": [],
   "source": [
    "class BreakOutProcessor(Processor):\n",
    "    def process_observation(self, observation):\n",
    "        # First convert the numpy array to a PIL Image\n",
    "        img = Image.fromarray(observation)\n",
    "        # Then resize the image\n",
    "        img = img.resize(IMG_SHAPE)\n",
    "        # And convert it to grayscale  (The L stands for luminance)\n",
    "        img = img.convert(\"L\")\n",
    "        # Convert the image back to a numpy array and finally return the image\n",
    "        img = np.array(img)\n",
    "        return img.astype('uint8')  # saves storage in experience memory\n",
    "    \n",
    "    def process_state_batch(self, batch):\n",
    "\n",
    "        # We divide the observations by 255 to compress it into the intervall [0, 1].\n",
    "        # This supports the training of the network\n",
    "        # We perform this operation here to save memory.\n",
    "        processed_batch = batch.astype('float32') / 255.\n",
    "        return processed_batch\n",
    "\n",
    "    def process_reward(self, reward):\n",
    "        return np.clip(reward, -1., 1.)\n"
   ]
  },
  {
   "cell_type": "markdown",
   "id": "worse-gilbert",
   "metadata": {},
   "source": [
    "As our input consists of 4 consecutive frames, each having the shape $(84 \\times 84)$, the input to the network has the shape $(84 \\times 84 \\times 4)$.\n",
    "But as the Convolutional Layers expect our input to be of shape $(4 \\times 84 \\times 84)$ we add a permute layer at the beginning to swap the channels\n",
    "\n",
    "@ Jose: Either we need to show an example of the permute layer here or at section 2 Deep Learning"
   ]
  },
  {
   "cell_type": "code",
   "execution_count": null,
   "id": "norman-clone",
   "metadata": {},
   "outputs": [],
   "source": [
    "input_shape = (WINDOW_LENGTH, IMG_SHAPE[0], IMG_SHAPE[1])\n",
    "input_shape"
   ]
  },
  {
   "cell_type": "markdown",
   "id": "touched-display",
   "metadata": {},
   "source": [
    "Now it is time to define the network!\n",
    "We use the He Normal weight initialization technique"
   ]
  },
  {
   "cell_type": "code",
   "execution_count": null,
   "id": "chinese-metabolism",
   "metadata": {},
   "outputs": [],
   "source": [
    "model = Sequential()\n",
    "model.add(Permute((2, 3, 1), input_shape=input_shape))\n",
    "\n",
    "model.add(Convolution2D(32, (8, 8), strides=(4, 4),kernel_initializer='he_normal'))\n",
    "model.add(Activation('relu'))\n",
    "model.add(Convolution2D(64, (4, 4), strides=(2, 2), kernel_initializer='he_normal'))\n",
    "model.add(Activation('relu'))\n",
    "model.add(Convolution2D(64, (3, 3), strides=(1, 1), kernel_initializer='he_normal'))\n",
    "model.add(Activation('relu'))\n",
    "model.add(Flatten())\n",
    "model.add(Dense(512))\n",
    "model.add(Activation('relu'))\n",
    "model.add(Dense(nb_actions))\n",
    "model.add(Activation('linear'))\n",
    "print(model.summary())\n"
   ]
  },
  {
   "cell_type": "markdown",
   "id": "pregnant-strain",
   "metadata": {},
   "source": [
    "Now we define the memory. We use again the SequentialMemory, but this time with a window_length of 4!"
   ]
  },
  {
   "cell_type": "code",
   "execution_count": null,
   "id": "saved-translation",
   "metadata": {},
   "outputs": [],
   "source": [
    "memory = SequentialMemory(limit=1000000, window_length=WINDOW_LENGTH)\n"
   ]
  },
  {
   "cell_type": "markdown",
   "id": "dynamic-operator",
   "metadata": {},
   "source": [
    "Then we define the processor"
   ]
  },
  {
   "cell_type": "code",
   "execution_count": null,
   "id": "martial-engineering",
   "metadata": {},
   "outputs": [],
   "source": [
    "processor = BreakOutProcessor()\n"
   ]
  },
  {
   "cell_type": "markdown",
   "id": "iraqi-tomorrow",
   "metadata": {},
   "source": [
    "We use again a LinearAnnealedPolicy to implement the epsilon greedy action selection with decaying epsilon.\n",
    "As we need to train for at least a million steps, we set the number of steps to 1,000,000"
   ]
  },
  {
   "cell_type": "code",
   "execution_count": null,
   "id": "champion-corpus",
   "metadata": {},
   "outputs": [],
   "source": [
    "policy = LinearAnnealedPolicy(EpsGreedyQPolicy(), attr='eps', value_max=1., value_min=.1, value_test=.05,\n",
    "                              nb_steps=1000000)\n"
   ]
  },
  {
   "cell_type": "markdown",
   "id": "alpha-parameter",
   "metadata": {},
   "source": [
    "Finally we define the agent and compile it. The agent is defined in the same way as in the previous lectures with an additional train_interval of 4 (we only train on every 4th step). <br />\n",
    "Besides that we clip delta (the error) to 1.<br />\n",
    "Both, clipping and train_interval often increase the result"
   ]
  },
  {
   "cell_type": "code",
   "execution_count": null,
   "id": "injured-profile",
   "metadata": {},
   "outputs": [],
   "source": [
    "dqn = DQNAgent(model=model, nb_actions=nb_actions, policy=policy, memory=memory,\n",
    "               processor=processor, nb_steps_warmup=50000, gamma=.99, target_model_update=10000,\n",
    "              train_interval=4, delta_clip=1)"
   ]
  },
  {
   "cell_type": "code",
   "execution_count": null,
   "id": "labeled-salvation",
   "metadata": {},
   "outputs": [],
   "source": [
    "dqn.compile(Adam(lr=.00025), metrics=['mae'])\n"
   ]
  },
  {
   "cell_type": "markdown",
   "id": "burning-deployment",
   "metadata": {},
   "source": [
    "As the training might take several hours, we store our current model each 100,000 steps. <br />\n",
    "We can use the *ModelIntervalCheckpoint(checkpoint_name, interval)* to do so and store it in a callback variable which we pass to the fit method as a callback"
   ]
  },
  {
   "cell_type": "code",
   "execution_count": null,
   "id": "sonic-expansion",
   "metadata": {},
   "outputs": [],
   "source": [
    "weights_filename = 'dqn_breakout_weights.h5f'\n",
    "checkpoint_weights_filename = 'dqn_' + \"BreakoutDeterministic-v4\" + '_weights_{step}.h5f'\n",
    "checkpoint_callback = ModelIntervalCheckpoint(checkpoint_weights_filename, interval=100000)\n"
   ]
  },
  {
   "cell_type": "markdown",
   "id": "human-tonight",
   "metadata": {},
   "source": [
    "If you want a headstart on the training or need to cancel the training and want to continue with the latest checkpoint, you can use the **load_weights()** function provided by tensorflow. <br />\n",
    "As we are not training from scratch, we also decrease the value for epsilon.<br />\n",
    "Depending on your weight file you need to set epsilon. When you use checkpoint 900,000, set epsilon to 0.2<br/>\n",
    "If you use your own checkpoint, make sure to adjust epsilon!"
   ]
  },
  {
   "cell_type": "code",
   "execution_count": null,
   "id": "thorough-retreat",
   "metadata": {
    "scrolled": true
   },
   "outputs": [],
   "source": [
    "# Load the weights\n",
    "model.load_weights(\"weights/dqn_BreakoutDeterministic-v4_weights_900000.h5f\")\n",
    "\n",
    "# Update the policy to start with a smaller epsilon\n",
    "policy = LinearAnnealedPolicy(EpsGreedyQPolicy(), attr='eps', value_max=0.3, value_min=.1, value_test=.05,\n",
    "                              nb_steps=100000)\n",
    "\n",
    "\n",
    "# Initialize the DQNAgent with the new model and updated policy and compile it\n",
    "dqn = DQNAgent(model=model, nb_actions=nb_actions, policy=policy, memory=memory,\n",
    "               processor=processor, nb_steps_warmup=50000, gamma=.99, target_model_update=10000)\n",
    "dqn.compile(Adam(lr=.00025), metrics=['mae'])\n",
    "\n",
    "# And train the model\n",
    "dqn.fit(env, nb_steps=500000, callbacks=[checkpoint_callback], log_interval=10000, visualize=False)\n"
   ]
  },
  {
   "cell_type": "code",
   "execution_count": null,
   "id": "lonely-vitamin",
   "metadata": {},
   "outputs": [],
   "source": [
    "dqn.test(env, nb_episodes=5, visualize=True)"
   ]
  },
  {
   "cell_type": "markdown",
   "id": "mexican-cycle",
   "metadata": {},
   "source": [
    "Or we train the model for 1.5 mio steps. <br />\n",
    "Be aware that this might take some time, so feel free to start the next lectures :)"
   ]
  },
  {
   "cell_type": "code",
   "execution_count": null,
   "id": "geological-firmware",
   "metadata": {
    "scrolled": true
   },
   "outputs": [],
   "source": [
    "dqn.fit(env, nb_steps=1500000, callbacks=[checkpoint_callback], log_interval=10000, visualize=False)\n",
    "\n",
    "# After training is done, we save the final weights one more time.\n",
    "dqn.save_weights(weights_filename, overwrite=True)\n",
    "\n"
   ]
  },
  {
   "cell_type": "code",
   "execution_count": null,
   "id": "facial-editing",
   "metadata": {},
   "outputs": [],
   "source": [
    "dqn.test(env, nb_episodes=5, visualize=True)"
   ]
  },
  {
   "cell_type": "markdown",
   "id": "roman-sculpture",
   "metadata": {},
   "source": [
    "If you only want to load your model for evaluation, you can use the exact same code from above without calling **fit()**. <br />\n",
    "You can also leave out the warmup steps, gamma and the targe model update variables when defining the DQNAgent as they are only needed for training."
   ]
  },
  {
   "cell_type": "code",
   "execution_count": null,
   "id": "relevant-proxy",
   "metadata": {},
   "outputs": [],
   "source": [
    "# Load the weights\n",
    "model.load_weights(\"weights/dqn_BreakoutDeterministic-v4_weights_1200000.h5f\")\n",
    "\n",
    "#You can chose an arbitrary policy for evaluation, it is fixed here.\n",
    "policy = EpsGreedyQPolicy(0.1)\n",
    "\n",
    "\n",
    "# Initialize the DQNAgent with the new model and updated policy and compile it\n",
    "dqn = DQNAgent(model=model, nb_actions=nb_actions, policy=policy, memory=memory,\n",
    "               processor=processor)\n",
    "dqn.compile(Adam(lr=.00025), metrics=['mae'])\n"
   ]
  },
  {
   "cell_type": "code",
   "execution_count": null,
   "id": "abroad-harvey",
   "metadata": {},
   "outputs": [],
   "source": [
    "dqn.test(env, nb_episodes=5, visualize=True)"
   ]
  },
  {
   "cell_type": "code",
   "execution_count": null,
   "id": "alone-vegetation",
   "metadata": {},
   "outputs": [],
   "source": []
  }
 ],
 "metadata": {
  "kernelspec": {
   "display_name": "RL",
   "language": "python",
   "name": "rl"
  },
  "language_info": {
   "codemirror_mode": {
    "name": "ipython",
    "version": 3
   },
   "file_extension": ".py",
   "mimetype": "text/x-python",
   "name": "python",
   "nbconvert_exporter": "python",
   "pygments_lexer": "ipython3",
   "version": "3.8.0"
  }
 },
 "nbformat": 4,
 "nbformat_minor": 5
}
