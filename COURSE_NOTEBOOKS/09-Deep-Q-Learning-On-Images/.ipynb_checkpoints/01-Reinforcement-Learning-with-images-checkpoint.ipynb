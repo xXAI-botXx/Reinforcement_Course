{
 "cells": [
  {
   "cell_type": "markdown",
   "id": "composite-encoding",
   "metadata": {},
   "source": [
    "___\n",
    "\n",
    "<a href='http://www.pieriandata.com'><img src='../Pierian_Data_Logo.png'/></a>\n",
    "___\n",
    "<center><em>Copyright by Pierian Data Inc.</em></center>\n",
    "<center><em>For more information, visit us at <a href='http://www.pieriandata.com'>www.pieriandata.com</a></em></center>\n",
    "\n",
    "# Reinforcement Learning on Images\n",
    "\n",
    "\n",
    "\n",
    "# Learning Outcomes\n",
    "\n",
    "* Student understands how to read in image data from open ai gym env\n",
    "* Creates Keras-RL model on IMage env\n",
    "* uses CNN for image data"
   ]
  },
  {
   "cell_type": "code",
   "execution_count": null,
   "id": "married-bench",
   "metadata": {},
   "outputs": [],
   "source": [
    "# Explain differences to RAM input and computational consequences\n",
    "# Then some example agent on an image task (either atari or box2d)\n",
    "# https://gym.openai.com/envs/#box2d\n",
    "# Bipedal walker and car racing is very nice but training time might be too long"
   ]
  }
 ],
 "metadata": {
  "kernelspec": {
   "display_name": "Python 3",
   "language": "python",
   "name": "python3"
  },
  "language_info": {
   "codemirror_mode": {
    "name": "ipython",
    "version": 3
   },
   "file_extension": ".py",
   "mimetype": "text/x-python",
   "name": "python",
   "nbconvert_exporter": "python",
   "pygments_lexer": "ipython3",
   "version": "3.8.5"
  }
 },
 "nbformat": 4,
 "nbformat_minor": 5
}
