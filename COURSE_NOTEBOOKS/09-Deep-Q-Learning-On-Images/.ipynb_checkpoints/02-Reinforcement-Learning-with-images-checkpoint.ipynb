{
 "cells": [
  {
   "cell_type": "markdown",
   "id": "059bceb6",
   "metadata": {},
   "source": [
    "___\n",
    "\n",
    "<a href='http://www.pieriandata.com'><img src='../Pierian_Data_Logo.png'/></a>\n",
    "___\n",
    "<center><em>Copyright by Pierian Data Inc.</em></center>\n",
    "<center><em>For more information, visit us at <a href='http://www.pieriandata.com'>www.pieriandata.com</a></em></center>\n",
    "\n",
    "# Reinforcement Learning on Images\n",
    "\n",
    "\n",
    "\n",
    "# Learning Outcomes\n"
   ]
  },
  {
   "cell_type": "markdown",
   "id": "f5c59fac",
   "metadata": {},
   "source": [
    "In this notebook we are going to train a Deep Q Network to play the breakout game! <br />\n",
    "At first we start with the necessary imports and create the environment"
   ]
  },
  {
   "cell_type": "code",
   "execution_count": null,
   "id": "a38915e0",
   "metadata": {},
   "outputs": [],
   "source": [
    "\n",
    "\n",
    "from PIL import Image  # To transform the image in the Processor\n",
    "import numpy as np\n",
    "import gym\n",
    "\n",
    "# Convolutional Backbone Network\n",
    "from tensorflow.keras.models import Sequential\n",
    "from tensorflow.keras.layers import Dense, Activation, Flatten, Convolution2D, Permute\n",
    "from tensorflow.keras.optimizers import Adam\n",
    "\n",
    "# Keras-RL\n",
    "from rl.agents.dqn import DQNAgent\n",
    "from rl.policy import LinearAnnealedPolicy, EpsGreedyQPolicy\n",
    "from rl.memory import SequentialMemory\n",
    "from rl.core import Processor\n",
    "from rl.callbacks import FileLogger, ModelIntervalCheckpoint\n"
   ]
  },
  {
   "cell_type": "code",
   "execution_count": null,
   "id": "184af2c2",
   "metadata": {},
   "outputs": [],
   "source": [
    "env = gym.make(\"BreakoutDeterministic-v4\")\n",
    "nb_actions = env.action_space.n\n"
   ]
  },
  {
   "cell_type": "markdown",
   "id": "3b1310fd",
   "metadata": {},
   "source": [
    "We will use an input shape of $(84 \\times 84)$ and a window length of 4 thus each timestep will consist of 4 consecutive frames"
   ]
  },
  {
   "cell_type": "code",
   "execution_count": null,
   "id": "dc02a103",
   "metadata": {},
   "outputs": [],
   "source": [
    "IMG_SHAPE = (84, 84)\n",
    "WINDOW_LENGTH = 4\n"
   ]
  },
  {
   "cell_type": "markdown",
   "id": "df61cf88",
   "metadata": {},
   "source": [
    "Based on those settings we create our processor. It is the same processor as in the last notebook, with the addition that it standardizes the data into the [0, 1] intervall which often decreases the necessary training time. <br />\n",
    "We perform this standardization routine in the process_state_batch function, which is only executed on the current batch and not on the complete replay memory which decreases RAM usage by a factor of 4.\n",
    "Additionally we clip the reward in the intervall [-1, 1] which might speed up the training"
   ]
  },
  {
   "cell_type": "code",
   "execution_count": null,
   "id": "2d519049",
   "metadata": {},
   "outputs": [],
   "source": [
    "class ImageProcessor(Processor):\n",
    "    def process_observation(self, observation):\n",
    "        # First convert the numpy array to a PIL Image\n",
    "        img = Image.fromarray(observation)\n",
    "        # Then resize the image\n",
    "        img = img.resize(IMG_SHAPE)\n",
    "        # And convert it to grayscale  (The L stands for luminance)\n",
    "        img = img.convert(\"L\")\n",
    "        # Convert the image back to a numpy array and finally return the image\n",
    "        img = np.array(img)\n",
    "        return img.astype('uint8')  # saves storage in experience memory\n",
    "    \n",
    "    def process_state_batch(self, batch):\n",
    "\n",
    "        # We divide the observations by 255 to compress it into the intervall [0, 1].\n",
    "        # This supports the training of the network\n",
    "        # We perform this operation here to save memory.\n",
    "        processed_batch = batch.astype('float32') / 255.\n",
    "        return processed_batch\n",
    "\n",
    "    def process_reward(self, reward):\n",
    "        return np.clip(reward, -1., 1.)\n"
   ]
  },
  {
   "cell_type": "markdown",
   "id": "c3b0c611",
   "metadata": {},
   "source": [
    "As our input consists of 4 consecutive frames, each having the shape $(84 \\times 84)$, the input to the network has the shape $(84 \\times 84 \\times 4)$.\n",
    "But as the Convolutional Layers expect our input to be of shape $(4 \\times 84 \\times 84)$ we add a permute layer at the beginning to swap the channels\n"
   ]
  },
  {
   "cell_type": "code",
   "execution_count": null,
   "id": "9e1d22e0",
   "metadata": {},
   "outputs": [],
   "source": [
    "input_shape = (WINDOW_LENGTH, IMG_SHAPE[0], IMG_SHAPE[1])\n",
    "input_shape"
   ]
  },
  {
   "cell_type": "markdown",
   "id": "83e3667d",
   "metadata": {},
   "source": [
    "Now it is time to define the network!\n",
    "We use the He Normal weight initialization technique"
   ]
  },
  {
   "cell_type": "code",
   "execution_count": null,
   "id": "d936bbf1",
   "metadata": {},
   "outputs": [],
   "source": [
    "model = Sequential()\n",
    "model.add(Permute((2, 3, 1), input_shape=input_shape))\n",
    "\n",
    "model.add(Convolution2D(32, (8, 8), strides=(4, 4),kernel_initializer='he_normal'))\n",
    "model.add(Activation('relu'))\n",
    "model.add(Convolution2D(64, (4, 4), strides=(2, 2), kernel_initializer='he_normal'))\n",
    "model.add(Activation('relu'))\n",
    "model.add(Convolution2D(64, (3, 3), strides=(1, 1), kernel_initializer='he_normal'))\n",
    "model.add(Activation('relu'))\n",
    "model.add(Flatten())\n",
    "model.add(Dense(512))\n",
    "model.add(Activation('relu'))\n",
    "model.add(Dense(nb_actions))\n",
    "model.add(Activation('linear'))\n",
    "print(model.summary())\n"
   ]
  },
  {
   "cell_type": "markdown",
   "id": "4d5e3a30",
   "metadata": {},
   "source": [
    "Now we define the memory. We use again the SequentialMemory, but this time with a window_length of 4!"
   ]
  },
  {
   "cell_type": "code",
   "execution_count": null,
   "id": "b4a465d5",
   "metadata": {},
   "outputs": [],
   "source": [
    "memory = SequentialMemory(limit=1000000, window_length=WINDOW_LENGTH)\n"
   ]
  },
  {
   "cell_type": "markdown",
   "id": "b9632693",
   "metadata": {},
   "source": [
    "Then we define the processor"
   ]
  },
  {
   "cell_type": "code",
   "execution_count": null,
   "id": "7819ad8b",
   "metadata": {},
   "outputs": [],
   "source": [
    "processor = ImageProcessor()\n"
   ]
  },
  {
   "cell_type": "markdown",
   "id": "7291c0ac",
   "metadata": {},
   "source": [
    "We use again a LinearAnnealedPolicy to implement the epsilon greedy action selection with decaying epsilon.\n",
    "As we need to train for at least a million steps, we set the number of steps to 1,000,000"
   ]
  },
  {
   "cell_type": "code",
   "execution_count": null,
   "id": "c0be40fa",
   "metadata": {},
   "outputs": [],
   "source": [
    "policy = LinearAnnealedPolicy(EpsGreedyQPolicy(), attr='eps', value_max=1., value_min=.1, value_test=.05,\n",
    "                              nb_steps=1000000)\n"
   ]
  },
  {
   "cell_type": "markdown",
   "id": "e2437a17",
   "metadata": {},
   "source": [
    "Finally we define the agent and compile it. The agent is defined in the same way as in the previous lectures with an additional train_interval of 4 (we only train on every 4th step). <br />\n",
    "Besides that we clip delta (the error) to 1.<br />\n",
    "Both, clipping and train_interval often increase the result"
   ]
  },
  {
   "cell_type": "code",
   "execution_count": null,
   "id": "dcb65474",
   "metadata": {},
   "outputs": [],
   "source": [
    "dqn = DQNAgent(model=model, nb_actions=nb_actions, policy=policy, memory=memory,\n",
    "               processor=processor, nb_steps_warmup=50000, gamma=.99, target_model_update=10000,\n",
    "              train_interval=4, delta_clip=1)"
   ]
  },
  {
   "cell_type": "code",
   "execution_count": null,
   "id": "0487bd68",
   "metadata": {},
   "outputs": [],
   "source": [
    "dqn.compile(Adam(learning_rate=.00025), metrics=['mae'])\n"
   ]
  },
  {
   "cell_type": "markdown",
   "id": "565f9da2",
   "metadata": {},
   "source": [
    "As the training might take several hours, we store our current model each 100,000 steps. <br />\n",
    "We can use the *ModelIntervalCheckpoint(checkpoint_name, interval)* to do so and store it in a callback variable which we pass to the fit method as a callback"
   ]
  },
  {
   "cell_type": "code",
   "execution_count": null,
   "id": "0b1967bb",
   "metadata": {},
   "outputs": [],
   "source": [
    "weights_filename = 'dqn_breakout_weights.h5f'\n",
    "checkpoint_weights_filename = 'dqn_' + \"BreakoutDeterministic-v4\" + '_weights_{step}.h5f'\n",
    "checkpoint_callback = ModelIntervalCheckpoint(checkpoint_weights_filename, interval=100000)\n"
   ]
  },
  {
   "cell_type": "markdown",
   "id": "74a60c84",
   "metadata": {},
   "source": [
    "If you want a headstart on the training or need to cancel the training and want to continue with the latest checkpoint, you can use the **load_weights()** function provided by tensorflow. <br />\n",
    "As we are not training from scratch, we also decrease the value for epsilon.<br />\n",
    "Depending on your weight file you need to set epsilon. When you use checkpoint 900,000, set epsilon to 0.2<br/>\n",
    "If you use your own checkpoint, make sure to adjust epsilon!"
   ]
  },
  {
   "cell_type": "code",
   "execution_count": null,
   "id": "16bf0887",
   "metadata": {
    "scrolled": true
   },
   "outputs": [],
   "source": [
    "# Load the weights\n",
    "model.load_weights(\"weights/dqn_BreakoutDeterministic-v4_weights_900000.h5f\")\n",
    "\n",
    "# Update the policy to start with a smaller epsilon\n",
    "policy = LinearAnnealedPolicy(EpsGreedyQPolicy(), attr='eps', value_max=0.3, value_min=.1, value_test=.05,\n",
    "                              nb_steps=100000)\n",
    "\n",
    "\n",
    "# Initialize the DQNAgent with the new model and updated policy and compile it\n",
    "dqn = DQNAgent(model=model, nb_actions=nb_actions, policy=policy, memory=memory,\n",
    "               processor=processor, nb_steps_warmup=50000, gamma=.99, target_model_update=10000)\n",
    "dqn.compile(Adam(learning_rate=.00025), metrics=['mae'])\n",
    "\n",
    "# And train the model\n",
    "dqn.fit(env, nb_steps=500000, callbacks=[checkpoint_callback], log_interval=10000, visualize=False)\n"
   ]
  },
  {
   "cell_type": "code",
   "execution_count": null,
   "id": "6c76a4b7",
   "metadata": {},
   "outputs": [],
   "source": [
    "dqn.test(env, nb_episodes=5, visualize=True)"
   ]
  },
  {
   "cell_type": "markdown",
   "id": "1680b3a7",
   "metadata": {},
   "source": [
    "Or we train the model for 1.5 mio steps. <br />\n",
    "Be aware that this might take some time, so feel free to start the next lectures :)"
   ]
  },
  {
   "cell_type": "code",
   "execution_count": null,
   "id": "9de6bb5d",
   "metadata": {
    "scrolled": true
   },
   "outputs": [],
   "source": [
    "dqn.fit(env, nb_steps=1500000, callbacks=[checkpoint_callback], log_interval=10000, visualize=False)\n",
    "\n",
    "# After training is done, we save the final weights one more time.\n",
    "dqn.save_weights(weights_filename, overwrite=True)\n",
    "\n"
   ]
  },
  {
   "cell_type": "code",
   "execution_count": null,
   "id": "f7509719",
   "metadata": {},
   "outputs": [],
   "source": [
    "dqn.test(env, nb_episodes=5, visualize=True)"
   ]
  },
  {
   "cell_type": "markdown",
   "id": "8d008e04",
   "metadata": {},
   "source": [
    "If you only want to load your model for evaluation, you can use the exact same code from above without calling **fit()**. <br />\n",
    "You can also leave out the warmup steps, gamma and the targe model update variables when defining the DQNAgent as they are only needed for training."
   ]
  },
  {
   "cell_type": "code",
   "execution_count": null,
   "id": "04f6059d",
   "metadata": {},
   "outputs": [],
   "source": [
    "# Load the weights\n",
    "model.load_weights(\"weights/dqn_BreakoutDeterministic-v4_weights_1200000.h5f\")\n",
    "\n",
    "#You can chose an arbitrary policy for evaluation, it is fixed here.\n",
    "policy = EpsGreedyQPolicy(0.1)\n",
    "\n",
    "\n",
    "# Initialize the DQNAgent with the new model and updated policy and compile it\n",
    "dqn = DQNAgent(model=model, nb_actions=nb_actions, policy=policy, memory=memory,\n",
    "               processor=processor)\n",
    "dqn.compile(Adam(lr=.00025), metrics=['mae'])\n"
   ]
  },
  {
   "cell_type": "code",
   "execution_count": null,
   "id": "12518bdf",
   "metadata": {},
   "outputs": [],
   "source": [
    "dqn.test(env, nb_episodes=5, visualize=True)"
   ]
  },
  {
   "cell_type": "code",
   "execution_count": null,
   "id": "3efa5a3a",
   "metadata": {},
   "outputs": [],
   "source": []
  }
 ],
 "metadata": {
  "kernelspec": {
   "display_name": "Python 3",
   "language": "python",
   "name": "python3"
  },
  "language_info": {
   "codemirror_mode": {
    "name": "ipython",
    "version": 3
   },
   "file_extension": ".py",
   "mimetype": "text/x-python",
   "name": "python",
   "nbconvert_exporter": "python",
   "pygments_lexer": "ipython3",
   "version": "3.8.10"
  }
 },
 "nbformat": 4,
 "nbformat_minor": 5
}
