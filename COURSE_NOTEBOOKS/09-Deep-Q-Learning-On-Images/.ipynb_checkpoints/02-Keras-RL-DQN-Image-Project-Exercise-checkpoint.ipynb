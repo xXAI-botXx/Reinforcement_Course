{
 "cells": [
  {
   "cell_type": "markdown",
   "id": "exclusive-kentucky",
   "metadata": {},
   "source": [
    "___\n",
    "\n",
    "<a href='http://www.pieriandata.com'><img src='../Pierian_Data_Logo.png'/></a>\n",
    "___\n",
    "<center><em>Copyright by Pierian Data Inc.</em></center>\n",
    "<center><em>For more information, visit us at <a href='http://www.pieriandata.com'>www.pieriandata.com</a></em></center>\n",
    "\n",
    "# Keras RL DQN on Image Environment - Exercise\n",
    "\n",
    "\n",
    "\n",
    "# Learning Outcomes\n",
    "\n",
    "* Student picks a open ai gym env\n",
    "* Trains based on image data\n",
    "* Probably simply env? We'll discuss"
   ]
  },
  {
   "cell_type": "code",
   "execution_count": null,
   "id": "efficient-magazine",
   "metadata": {},
   "outputs": [],
   "source": [
    "# Let the student identify a gym environment he likes\n",
    "# First play manually to check how good he actually is (the games are really hard)\n",
    "# Then train an agent for it (in google colab if needed) We can provide sample weights for some of the games\n"
   ]
  }
 ],
 "metadata": {
  "kernelspec": {
   "display_name": "Python 3",
   "language": "python",
   "name": "python3"
  },
  "language_info": {
   "codemirror_mode": {
    "name": "ipython",
    "version": 3
   },
   "file_extension": ".py",
   "mimetype": "text/x-python",
   "name": "python",
   "nbconvert_exporter": "python",
   "pygments_lexer": "ipython3",
   "version": "3.8.5"
  }
 },
 "nbformat": 4,
 "nbformat_minor": 5
}
